{
 "cells": [
  {
   "cell_type": "code",
   "execution_count": 12,
   "metadata": {},
   "outputs": [],
   "source": [
    "import tweepy\n",
    "from textblob import TextBlob\n",
    "import csv\n",
    "import re\n",
    "import sys\n",
    "import pandas as pd\n",
    "\n",
    "\n",
    "\n",
    "\n",
    "\n"
   ]
  },
  {
   "cell_type": "code",
   "execution_count": 13,
   "metadata": {},
   "outputs": [],
   "source": [
    "consumer_key='YOUR CONSUMER KEY'\n",
    "consumer_secret='YOUR CONSUMER SECRET KEY'"
   ]
  },
  {
   "cell_type": "code",
   "execution_count": 14,
   "metadata": {},
   "outputs": [],
   "source": [
    "access_token_key='YOUR ACCESS TOKEN'\n",
    "access_token_secret='YOUR SECRET ACCESS TOKEN'"
   ]
  },
  {
   "cell_type": "code",
   "execution_count": 15,
   "metadata": {},
   "outputs": [],
   "source": [
    "auth=tweepy.OAuthHandler(consumer_key,consumer_secret)\n",
    "auth.set_access_token(access_token_key,access_token_secret)\n"
   ]
  },
  {
   "cell_type": "code",
   "execution_count": null,
   "metadata": {},
   "outputs": [],
   "source": [
    "api=tweepy.API(auth)\n",
    "topicname='jack'\n",
    "pubic_tweets=api.search_tweets(topicname)\n",
    "unwanted_words=['@','RT',':','https','http']\n",
    "symbols=['@','#']\n",
    "data=[]\n",
    "for tweet in pubic_tweets:\n",
    "    text=tweet.text\n",
    "    textWords=text.split()\n",
    "    #print (textWords)\n",
    "    cleanedTweet=' '.join(re.sub(\"(@[A-Za-z0-9]+)|([^0-9A-Za-z \\t])|(\\w+:\\/\\/\\S+)|(RT)\", \" \", text).split())\n",
    "    print (cleanedTweet)\n",
    "    #print (TextBlob(cleanedTweet).tags)\n",
    "    analysis= TextBlob(cleanedTweet)\n",
    "    print (analysis.sentiment)\n",
    "    polarity = 'Positive'\n",
    "    if(analysis.sentiment.polarity < 0):\n",
    "        polarity = 'Negative'\n",
    "    if(0<=analysis.sentiment.polarity <=0.2):\n",
    "        polarity = 'Neutral'\n",
    "    #print (polarity)\n",
    "    dic={}\n",
    "    dic['Sentiment']=polarity\n",
    "    dic['Tweet']=cleanedTweet\n",
    "    data.append(dic)\n",
    "df=pd.DataFrame(data)\n",
    "df.to_csv('analysis1.csv')"
   ]
  }
 ],
 "metadata": {
  "interpreter": {
   "hash": "bd5691f43d285551b712c9bf9ba78909d3bd2421bee50df47c1ccfa254260386"
  },
  "kernelspec": {
   "display_name": "Python 3.10.1 64-bit",
   "language": "python",
   "name": "python3"
  },
  "language_info": {
   "codemirror_mode": {
    "name": "ipython",
    "version": 3
   },
   "file_extension": ".py",
   "mimetype": "text/x-python",
   "name": "python",
   "nbconvert_exporter": "python",
   "pygments_lexer": "ipython3",
   "version": "3.10.1"
  },
  "orig_nbformat": 4
 },
 "nbformat": 4,
 "nbformat_minor": 2
}
