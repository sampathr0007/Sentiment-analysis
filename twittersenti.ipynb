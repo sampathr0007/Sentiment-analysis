{
 "cells": [
  {
   "cell_type": "code",
   "execution_count": 1,
   "metadata": {},
   "outputs": [],
   "source": [
    "import re\n",
    "import tweepy\n",
    "from tweepy import OAuthHandler\n",
    "from textblob import TextBlob\n",
    "import pandas as pd\n",
    "import matplotlib.pyplot as plt\n",
    "plt.style.use('fivethirtyeight')"
   ]
  },
  {
   "cell_type": "code",
   "execution_count": 2,
   "metadata": {},
   "outputs": [],
   "source": [
    "#To continue furthur you need to have your twitter account with developer options to get the keys\n",
    "consumer_key='Enter your API key'\n",
    "consumer_secret='Enter your Secret API key'\n",
    "access_token='Enter your access token'\n",
    "access_token_secret='Enter your secret access tocken'"
   ]
  },
  {
   "cell_type": "code",
   "execution_count": 3,
   "metadata": {},
   "outputs": [],
   "source": [
    "try:\n",
    "\n",
    "    auth=OAuthHandler(consumer_key,consumer_secret)\n",
    "    auth.set_access_token(access_token,access_token_secret)\n",
    "    api=tweepy.API(auth)\n",
    "except:\n",
    "    print(\"Error: Authorization error\")"
   ]
  },
  {
   "cell_type": "code",
   "execution_count": 4,
   "metadata": {},
   "outputs": [],
   "source": [
    "api=tweepy.API(auth,wait_on_rate_limit=True)"
   ]
  },
  {
   "cell_type": "code",
   "execution_count": 5,
   "metadata": {},
   "outputs": [
    {
     "name": "stderr",
     "output_type": "stream",
     "text": [
      "Unexpected parameter: lang\n"
     ]
    },
    {
     "name": "stdout",
     "output_type": "stream",
     "text": [
      "The tweets are :\n",
      "\n",
      "1) @joyatvls \"You and I...\"\n",
      "\n"
     ]
    }
   ],
   "source": [
    "posts=api.user_timeline(screen_name=\"love\",count=50,lang=\"en\",tweet_mode=\"extended\")\n",
    "print(\"The tweets are :\\n\")\n",
    "i=1\n",
    "for tweet in posts[0:1]:\n",
    "    print(str(i) + ') ' + tweet.full_text+ '\\n')"
   ]
  },
  {
   "cell_type": "code",
   "execution_count": null,
   "metadata": {},
   "outputs": [],
   "source": [
    "#Create a data frame with coloum name tweets \n",
    "df=pd.DataFrame([tweet.full_text for tweet in posts], columns=['Tweets'])\n",
    "\n",
    "df.head()\n"
   ]
  },
  {
   "cell_type": "code",
   "execution_count": null,
   "metadata": {},
   "outputs": [],
   "source": [
    "#clean the text \n",
    "#create a function \n",
    "def cleanTxt(text):\n",
    "    text=re.sub(r'@[A-Za-z0-9]+','',text)\n",
    "    text=re.sub(r'#','',text)\n",
    "    text=re.sub(r'RT[\\s]+','',text)\n",
    "    text=re.sub(r'https?:\\/\\/\\S+','',text)\n",
    "\n",
    "    return text\n",
    "df['Tweets']=df['Tweets'].apply(cleanTxt)\n",
    "\n",
    "df\n"
   ]
  },
  {
   "cell_type": "code",
   "execution_count": null,
   "metadata": {},
   "outputs": [],
   "source": [
    "#polarity\n",
    "\n",
    "def getPolarity(text):\n",
    "    return TextBlob(text).sentiment.polarity\n",
    "\n",
    "df['Polarity'] = df['Tweets'].apply(getPolarity)\n",
    "\n",
    "df"
   ]
  },
  {
   "cell_type": "code",
   "execution_count": null,
   "metadata": {},
   "outputs": [],
   "source": [
    "#Create a function to compute negative, neutral and positive\n",
    "\n",
    "def getAnalysis(score):\n",
    "    if score < 0:\n",
    "        return 'Negative'\n",
    "    elif score == 0:\n",
    "        return 'Neutral'\n",
    "    if score > 0:\n",
    "        return 'Positive'\n",
    "\n",
    "df['Analysis']=df['Polarity'].apply(getAnalysis)\n",
    "\n",
    "df"
   ]
  }
 ],
 "metadata": {
  "interpreter": {
   "hash": "bd5691f43d285551b712c9bf9ba78909d3bd2421bee50df47c1ccfa254260386"
  },
  "kernelspec": {
   "display_name": "Python 3.10.1 64-bit",
   "language": "python",
   "name": "python3"
  },
  "language_info": {
   "codemirror_mode": {
    "name": "ipython",
    "version": 3
   },
   "file_extension": ".py",
   "mimetype": "text/x-python",
   "name": "python",
   "nbconvert_exporter": "python",
   "pygments_lexer": "ipython3",
   "version": "3.10.1"
  },
  "orig_nbformat": 4
 },
 "nbformat": 4,
 "nbformat_minor": 2
}
